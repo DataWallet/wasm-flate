{
  "cells": [
    {
      "cell_type": "code",
      "source": [
        "%precision 3\n",
        "import datetime\n",
        "\n",
        "## Variables\n",
        "speed_of_compression = 30.0 / 1.0 # ~15 MB/s to ~93 MB/s\n",
        "total_file_size = 100.0\n",
        "network_mbps = 5.6 # South Korea is ~27 Mbps, Global is ~5.6 Mbps\n",
        "compression_ratio = 1.0 / 3.0\n",
        "\n",
        "## Calculated\n",
        "deflate_time = (total_file_size / speed_of_compression)\n",
        "network_speed_MBS = network_mbps / 8.0\n",
        "transfer_time = network_speed_MBS * total_file_size\n",
        "compressed_file_size = compression_ratio * total_file_size\n",
        "compressed_transfer_time = network_speed_MBS * compressed_file_size\n",
        "\n\n",
        "# Statements\n",
        "print(\"If we can transfer %s MB/s or %s Mbps. \\nWe will send a %s MB file in %s\" % \n",
        "      (network_speed_MBS, network_mbps, total_file_size, transfer_time)\n",
        ")\n",
        "\n",
        "print(\"\\n\\nIf we can transfer %s MB/s or %s Mbps. \\nWe will send a %s MB file in %s. \\\n",
        "\\nIf we can run DEFLATE at %s MB/s compression takes %s seconds and decompression takes %s seconds \\\n",
        "\\nFor a total run time of %s\" % \n",
        "      (network_speed_MBS, network_mbps, compressed_file_size, compressed_transfer_time,\n",
        "      speed_of_compression, deflate_time, deflate_time, \n",
        "       (2*deflate_time + compressed_transfer_time)\n",
        "      )\n",
        ")\n",
        "\n",
        "print(\"\\n\\nNormal\\t\\t\\twasm-flate\\n\\\n",
        "%s\\t\\tvs\\t%s\" % (transfer_time,2*deflate_time + compressed_transfer_time))\n",
        "\n\n(2*deflate_time + compressed_transfer_time)/transfer_time"
      ],
      "outputs": [
        {
          "output_type": "stream",
          "name": "stdout",
          "text": [
            "If we can transfer 0.7 MB/s or 5.6 Mbps. \n",
            "We will send a 100.0 MB file in 70.0\n",
            "\n\n",
            "If we can transfer 0.7 MB/s or 5.6 Mbps. \n",
            "We will send a 33.33333333333333 MB file in 23.33333333333333. \n",
            "If we can run DEFLATE at 30.0 MB/s compression takes 3.3333333333333335 seconds and decompression takes 3.3333333333333335 seconds \n",
            "For a total run time of 29.999999999999996\n",
            "\n\n",
            "Normal\t\t\twasm-flate\n",
            "70.0\t\tvs\t29.999999999999996\n"
          ]
        },
        {
          "output_type": "execute_result",
          "execution_count": 33,
          "data": {
            "text/plain": [
              "0.429"
            ]
          },
          "metadata": {}
        }
      ],
      "execution_count": 33,
      "metadata": {
        "collapsed": false,
        "outputHidden": false,
        "inputHidden": false
      }
    },
    {
      "cell_type": "code",
      "source": [
        "# hr_time\n",
        "# network_speed_MBS"
      ],
      "outputs": [],
      "execution_count": 34,
      "metadata": {
        "collapsed": false,
        "outputHidden": false,
        "inputHidden": false
      }
    },
    {
      "cell_type": "code",
      "source": [
        "def uncompressed_send(\n",
        "    total_file_size,\n",
        "    network_mbps):\n",
        "    deflate_time = (total_file_size / speed_of_compression)\n",
        "    network_speed_MBS = network_mbps / 8.0\n",
        "    transfer_time =  total_file_size / network_speed_MBS\n",
        "    return transfer_time, total_file_size"
      ],
      "outputs": [],
      "execution_count": 65,
      "metadata": {
        "collapsed": false,
        "outputHidden": false,
        "inputHidden": false
      }
    },
    {
      "cell_type": "code",
      "source": [
        "uncompressed_send(100.0, 8.0)"
      ],
      "outputs": [
        {
          "output_type": "execute_result",
          "execution_count": 71,
          "data": {
            "text/plain": [
              "(100.000, 100.000)"
            ]
          },
          "metadata": {}
        }
      ],
      "execution_count": 71,
      "metadata": {
        "collapsed": false,
        "outputHidden": false,
        "inputHidden": false
      }
    },
    {
      "cell_type": "code",
      "source": [
        "def compressed_send(\n",
        "    speed_of_compression,\n",
        "    compression_ratio,\n",
        "    total_file_size,\n",
        "    network_mbps):\n",
        "    deflate_time = (total_file_size / speed_of_compression)\n",
        "    network_speed_MBS = network_mbps / 8.0\n",
        "    compressed_file_size = compression_ratio * total_file_size\n",
        "    compressed_transfer_time = compressed_file_size / network_speed_MBS \n",
        "    return (compressed_transfer_time + 2*deflate_time), compressed_file_size"
      ],
      "outputs": [],
      "execution_count": 72,
      "metadata": {
        "collapsed": false,
        "outputHidden": false,
        "inputHidden": false
      }
    },
    {
      "cell_type": "code",
      "source": [
        "compressed_send(30.0, 7/8, 100.0, 8.0)"
      ],
      "outputs": [
        {
          "output_type": "execute_result",
          "execution_count": 73,
          "data": {
            "text/plain": [
              "(94.167, 87.500)"
            ]
          },
          "metadata": {}
        }
      ],
      "execution_count": 73,
      "metadata": {
        "collapsed": false,
        "outputHidden": false,
        "inputHidden": false
      }
    },
    {
      "cell_type": "code",
      "source": [
        "def compare(compress_speed, network_mbps):\n",
        "    file = 100.0        # file size help equal\n",
        "#     network_mbps = 5.6  # network speed help equal\n",
        "\n",
        "    ut, us = uncompressed_send(file, network_mbps)\n",
        "    ct, cs = compressed_send(compress_speed, 7/8, file, network_mbps)\n",
        "    return (ct, cs), (ut, us)\n",
        "#     print(ut, ct)"
      ],
      "outputs": [],
      "execution_count": 81,
      "metadata": {
        "collapsed": false,
        "outputHidden": false,
        "inputHidden": false
      }
    },
    {
      "cell_type": "code",
      "source": [
        "uncompressed_send(100, 5.1)"
      ],
      "outputs": [
        {
          "output_type": "execute_result",
          "execution_count": 82,
          "data": {
            "text/plain": [
              "(156.863, 100)"
            ]
          },
          "metadata": {}
        }
      ],
      "execution_count": 82,
      "metadata": {
        "collapsed": false,
        "outputHidden": false,
        "inputHidden": false
      }
    },
    {
      "cell_type": "code",
      "source": [
        "f = 10 # size of file to send in MBs\n",
        "cr = 0.3 # compression ratio to full size\n",
        "cds = 32.0 # MB/s of DEFLATE algo\n",
        "ns = 3.7 # Network MB/s == (Mbps/8.0)\n",
        "\n",
        "time_saved = ( f / ns ) - ( ( (cr * f) / ns ) + ( 2 * ( f / cds ) ) )\n",
        "size_saved = f - ( f * cr )\n",
        "print( \"time saved: %s seconds\\nsize saved: %s MBs\" % ( round( time_saved, 1 ), size_saved ) )"
      ],
      "outputs": [
        {
          "output_type": "stream",
          "name": "stdout",
          "text": [
            "time saved: 1.3 seconds\n",
            "size saved: 7.0 MBs\n"
          ]
        }
      ],
      "execution_count": 157,
      "metadata": {
        "collapsed": false,
        "outputHidden": false,
        "inputHidden": false
      }
    },
    {
      "cell_type": "code",
      "source": [
        "\n",
        "# for y in range(1, 200, 1):\n",
        "#     network_speed = y/10\n",
        "\n",
        "#     for compress_speed in range(10, 100, 10):\n",
        "#         comp, uncomp = compare(compress_speed, network_speed)\n",
        "# #         print(\"%s Mbps %s MB/s %s %s is %s %s\" % (network_speed, x, \n",
        "# #                                                round(comp[0], 2), \n",
        "# #                                                round(uncomp[0], 2), \n",
        "# #                                                comp[0] < uncomp[0],\n",
        "# #                                                round(compress_speed/network_speed,2)))"
      ],
      "outputs": [],
      "execution_count": 109,
      "metadata": {
        "collapsed": false,
        "outputHidden": false,
        "inputHidden": false
      }
    },
    {
      "cell_type": "code",
      "source": [],
      "outputs": [],
      "execution_count": null,
      "metadata": {
        "collapsed": false,
        "outputHidden": false,
        "inputHidden": false
      }
    }
  ],
  "metadata": {
    "kernel_info": {
      "name": "python3"
    },
    "language_info": {
      "name": "python",
      "version": "3.7.3",
      "mimetype": "text/x-python",
      "codemirror_mode": {
        "name": "ipython",
        "version": 3
      },
      "pygments_lexer": "ipython3",
      "nbconvert_exporter": "python",
      "file_extension": ".py"
    },
    "kernelspec": {
      "name": "python3",
      "language": "python",
      "display_name": "Python 3"
    },
    "nteract": {
      "version": "0.12.3"
    }
  },
  "nbformat": 4,
  "nbformat_minor": 4
}